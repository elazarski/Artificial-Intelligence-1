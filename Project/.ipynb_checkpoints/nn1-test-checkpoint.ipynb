{
 "cells": [
  {
   "cell_type": "code",
   "execution_count": 1,
   "metadata": {
    "collapsed": false
   },
   "outputs": [
    {
     "name": "stderr",
     "output_type": "stream",
     "text": [
      "/usr/lib/python2.7/dist-packages/h5py/__init__.py:34: FutureWarning: Conversion of the second argument of issubdtype from `float` to `np.floating` is deprecated. In future, it will be treated as `np.float64 == np.dtype(float).type`.\n",
      "  from ._conv import register_converters as _register_converters\n",
      "Using TensorFlow backend.\n"
     ]
    }
   ],
   "source": [
    "import keras as k\n",
    "from keras.datasets import mnist\n",
    "\n",
    "# load data\n",
    "(X_train, y_train), (X_test, y_test) = mnist.load_data()"
   ]
  },
  {
   "cell_type": "code",
   "execution_count": 2,
   "metadata": {
    "collapsed": false
   },
   "outputs": [],
   "source": [
    "# shape data for NN\n",
    "X_train = X_train.reshape(X_train.shape[0], 28, 28, 1)\n",
    "X_test = X_test.reshape(X_test.shape[0], 28, 28, 1)\n",
    "input_shape = (28, 28, 1)\n",
    "\n",
    "# convert and standardize data for NN\n",
    "X_train = X_train.astype('float32')\n",
    "X_test = X_test.astype('float32')\n",
    "#X_train /= 255\n",
    "#X_test /= 255\n"
   ]
  },
  {
   "cell_type": "code",
   "execution_count": 3,
   "metadata": {
    "collapsed": true
   },
   "outputs": [],
   "source": [
    "# categories for NN output\n",
    "num_category = 10\n",
    "y_train = k.utils.to_categorical(y_train, num_category)\n",
    "y_test = k.utils.to_categorical(y_test, num_category)\n"
   ]
  },
  {
   "cell_type": "code",
   "execution_count": 4,
   "metadata": {
    "collapsed": false
   },
   "outputs": [],
   "source": [
    "# build NN\n",
    "model = k.Sequential()\n",
    "\n",
    "# convolutional layer w/ rectified linear unit activation\n",
    "model.add(k.layers.Conv2D(32, kernel_size=(3,3), activation='relu', input_shape=input_shape))\n",
    "# 32 convolution filters used, each of size 3x3\n",
    "\n",
    "# again\n",
    "model.add(k.layers.Conv2D(64, (3,3), activation='relu'))\n",
    "# 64 convolution filters used, each of size 3x3\n",
    "\n",
    "# choose best features via pooling\n",
    "model.add(k.layers.MaxPooling2D(pool_size=(2,2)))\n",
    "\n",
    "# randomly turn neurons on/off to improve convergence\n",
    "model.add(k.layers.Dropout(0,25))\n",
    "\n",
    "# flatten since too many dimensions, we only want classification output\n",
    "model.add(k.layers.Flatten())\n",
    "\n",
    "# fully connected to get all relevant data\n",
    "model.add(k.layers.Dense(128, activation='relu'))\n",
    "\n",
    "# one more for convergence's sake\n",
    "model.add(k.layers.Dropout(0.5))\n",
    "\n",
    "# output a softmax to squash the matrix into output probabilities\n",
    "model.add(k.layers.Dense(num_category, activation='softmax'))"
   ]
  },
  {
   "cell_type": "code",
   "execution_count": 5,
   "metadata": {
    "collapsed": true
   },
   "outputs": [],
   "source": [
    "# compile model\n",
    "# use categorical_crossentropy as we have multiple classes\n",
    "model.compile(loss=k.losses.categorical_crossentropy, optimizer=k.optimizers.Adadelta(), metrics=['accuracy'])"
   ]
  },
  {
   "cell_type": "code",
   "execution_count": 6,
   "metadata": {
    "collapsed": false
   },
   "outputs": [
    {
     "name": "stdout",
     "output_type": "stream",
     "text": [
      "Train on 60000 samples, validate on 10000 samples\n",
      "Epoch 1/10\n",
      "60000/60000 [==============================] - 71s 1ms/step - loss: 0.9271 - acc: 0.8931 - val_loss: 0.0640 - val_acc: 0.9815\n",
      "Epoch 2/10\n",
      "60000/60000 [==============================] - 68s 1ms/step - loss: 0.0908 - acc: 0.9742 - val_loss: 0.0511 - val_acc: 0.9848\n",
      "Epoch 3/10\n",
      "60000/60000 [==============================] - 69s 1ms/step - loss: 0.0625 - acc: 0.9818 - val_loss: 0.0420 - val_acc: 0.9867\n",
      "Epoch 4/10\n",
      "60000/60000 [==============================] - 69s 1ms/step - loss: 0.0509 - acc: 0.9854 - val_loss: 0.0491 - val_acc: 0.9856\n",
      "Epoch 5/10\n",
      "60000/60000 [==============================] - 69s 1ms/step - loss: 0.0408 - acc: 0.9881 - val_loss: 0.0380 - val_acc: 0.9885\n",
      "Epoch 6/10\n",
      "60000/60000 [==============================] - 69s 1ms/step - loss: 0.0337 - acc: 0.9902 - val_loss: 0.0385 - val_acc: 0.9891\n",
      "Epoch 7/10\n",
      "60000/60000 [==============================] - 69s 1ms/step - loss: 0.0307 - acc: 0.9908 - val_loss: 0.0375 - val_acc: 0.9902\n",
      "Epoch 8/10\n",
      "60000/60000 [==============================] - 70s 1ms/step - loss: 0.0247 - acc: 0.9924 - val_loss: 0.0406 - val_acc: 0.9888\n",
      "Epoch 9/10\n",
      "60000/60000 [==============================] - 70s 1ms/step - loss: 0.0210 - acc: 0.9937 - val_loss: 0.0433 - val_acc: 0.9898\n",
      "Epoch 10/10\n",
      "60000/60000 [==============================] - 71s 1ms/step - loss: 0.0191 - acc: 0.9943 - val_loss: 0.0415 - val_acc: 0.9914\n"
     ]
    }
   ],
   "source": [
    "# train & test model\n",
    "batch_size = 128\n",
    "num_epoch = 10\n",
    "model_log = model.fit(X_train, y_train, batch_size=batch_size, epochs=num_epoch, verbose=1, validation_data=(X_test,y_test))"
   ]
  },
  {
   "cell_type": "code",
   "execution_count": 8,
   "metadata": {
    "collapsed": false
   },
   "outputs": [
    {
     "name": "stdout",
     "output_type": "stream",
     "text": [
      "Test loss: 0.0415432467832376\n",
      "Test accuracy: 0.9914\n"
     ]
    }
   ],
   "source": [
    "# evaluate model\n",
    "score = model.evaluate(X_test, y_test, verbose=0)\n",
    "print 'Test loss:', score[0]\n",
    "print 'Test accuracy:', score[1]"
   ]
  },
  {
   "cell_type": "code",
   "execution_count": 19,
   "metadata": {
    "collapsed": false
   },
   "outputs": [
    {
     "data": {
      "image/png": "[encoded data removed]",
      "text/plain": [
       "<matplotlib.figure.Figure at 0x7fe218169390>"
      ]
     },
     "execution_count": 19,
     "metadata": {},
     "output_type": "execute_result"
    },
    {
     "data": {
      "image/png": "[encoded data removed]",
      "text/plain": [
       "<matplotlib.figure.Figure at 0x7fe218169390>"
      ]
     },
     "metadata": {},
     "output_type": "display_data"
    }
   ],
   "source": [
    "# plot model training\n",
    "%matplotlib inline\n",
    "import matplotlib.pyplot as plt\n",
    "fig = plt.figure()\n",
    "plt.subplot(2,1,1)\n",
    "plt.plot(model_log.history['acc'])\n",
    "plt.plot(model_log.history['val_acc'])\n",
    "plt.title('model accuracy')\n",
    "plt.ylabel('accuracy')\n",
    "plt.xlabel('epoch')\n",
    "plt.legend(['train', 'test'], loc='lower right')\n",
    "\n",
    "plt.subplot(2,1,2)\n",
    "plt.plot(model_log.history['loss'])\n",
    "plt.plot(model_log.history['val_loss'])\n",
    "plt.title('model loss')\n",
    "plt.ylabel('loss')\n",
    "plt.xlabel('epoch')\n",
    "plt.legend(['train', 'test'], loc='upper right')\n",
    "\n",
    "plt.tight_layout()\n",
    "\n",
    "fig"
   ]
  },
  {
   "cell_type": "code",
   "execution_count": 20,
   "metadata": {
    "collapsed": true
   },
   "outputs": [],
   "source": [
    "# save model to disk\n",
    "model_digit_json = model.to_json()\n",
    "with open(\"model_digit.json\", \"w\") as json_file:\n",
    "    json_file.write(model_digit_json)\n",
    "model.save_weights(\"model_digit.h5\")"
   ]
  }
 ],
 "metadata": {
  "kernelspec": {
   "display_name": "Python 2",
   "language": "python",
   "name": "python2"
  },
  "language_info": {
   "codemirror_mode": {
    "name": "ipython",
    "version": 2
   },
   "file_extension": ".py",
   "mimetype": "text/x-python",
   "name": "python",
   "nbconvert_exporter": "python",
   "pygments_lexer": "ipython2",
   "version": "2.7.13"
  }
 },
 "nbformat": 4,
 "nbformat_minor": 2
}
